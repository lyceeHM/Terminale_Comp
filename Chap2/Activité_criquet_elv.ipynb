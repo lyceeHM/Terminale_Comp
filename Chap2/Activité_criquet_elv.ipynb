{
 "cells": [
  {
   "cell_type": "markdown",
   "metadata": {},
   "source": [
    "<div id=\"titre\">\n",
    "<h1 style=\"color:white;\n",
    "  font-family:Comic Sans MS;\n",
    "  font-size:3em;\n",
    "  background-color:#D0573B;\n",
    "  text-align:center;\n",
    "  padding:10px\">Méthode des moindres carrés </h1>\n",
    "<div style=\"font-family:Comic Sans MS; background-color:black;box-shadow: 8px 8px 0px #aaa; text-align:center; width: 50%; color:white\">TP  - Terminale</div>\n",
    "</div>"
   ]
  },
  {
   "cell_type": "markdown",
   "metadata": {},
   "source": [
    "D'après <b>The Song of Insects by Dr.G.W. Pierce, Harvard College Press</b> on y trouve une série statistique à deux variables :\n",
    "- X : Nombre de gazoullis d'un criquet par minute\n",
    "- Y : Température en Fahrenheit\n",
    "Le fichier 'criquet.xls' contient les données associées à cette étude issue du site http://college.cengage.com/mathematics/brase/understandable_statistics/7e/students/datasets/slr/frames/frame.html"
   ]
  },
  {
   "cell_type": "markdown",
   "metadata": {},
   "source": [
    "<span style='color:white;font-weight:bold;background-color:black;width:12px;padding: 2px;font-size:20px'>1.</span> Traitement des données"
   ]
  },
  {
   "cell_type": "markdown",
   "metadata": {},
   "source": [
    "<span style='color:white;font-weight:bold;background-color:#F0573B;padding: 2px;font-size:20px'>a.</span> Exécuter le code suivant permettant de lire le fichier <code>criquets.csv</code> avec la bibliothèque <b>Pandas</b> de <b>Python</b>."
   ]
  },
  {
   "cell_type": "code",
   "execution_count": null,
   "metadata": {},
   "outputs": [],
   "source": [
    "import pylab as pl\n",
    "import pandas as pa\n",
    "\n",
    "T = pa.read_csv('https://raw.githubusercontent.com/lyceeHM/Terminale_Comp/master/Chap2/criquets.csv')\n",
    "T"
   ]
  },
  {
   "cell_type": "markdown",
   "metadata": {},
   "source": [
    "<span style='background-color:rgb(117, 129, 172);padding:10px'> <b>On note : </b> $X=\\left(X_i\\right)_{i=0..14}$ et $Y=\\left(Y_i\\right)_{i=0..14}$</span>"
   ]
  },
  {
   "cell_type": "markdown",
   "metadata": {},
   "source": [
    "<span style='color:white;font-weight:bold;background-color:#F0573B;padding: 2px;font-size:20px'>b.</span> Représenter le nuage de points $\\left(X_i\\,,\\,Y_i\\right)$ associé à la table <b>T</b>."
   ]
  },
  {
   "cell_type": "code",
   "execution_count": null,
   "metadata": {},
   "outputs": [],
   "source": [
    "T.plot.scatter(x = 'X', y = 'Y')"
   ]
  },
  {
   "cell_type": "code",
   "execution_count": null,
   "metadata": {},
   "outputs": [],
   "source": [
    "T.boxplot(whis = [0, 100])"
   ]
  },
  {
   "cell_type": "markdown",
   "metadata": {},
   "source": [
    "<span style='color:white;font-weight:bold;background-color:black;width:12px;padding: 2px;font-size:20px'>2.</span> Paramètres statistiques de <b>X</b> et <b>Y</b>"
   ]
  },
  {
   "cell_type": "markdown",
   "metadata": {},
   "source": [
    "<span style='color:white;font-weight:bold;background-color:#F0573B;padding: 2px;font-size:20px'>a.</span> Pour calculer $\\overline{X}$ exécuter le code suivant"
   ]
  },
  {
   "cell_type": "code",
   "execution_count": null,
   "metadata": {},
   "outputs": [],
   "source": [
    "mx = T['X'].mean()\n",
    "mx"
   ]
  },
  {
   "cell_type": "markdown",
   "metadata": {},
   "source": [
    "Calculer de même $\\overline{Y}$ et stocker le résultat dans <code>my</code>"
   ]
  },
  {
   "cell_type": "code",
   "execution_count": null,
   "metadata": {},
   "outputs": [],
   "source": []
  },
  {
   "cell_type": "markdown",
   "metadata": {},
   "source": [
    "<span style='color:white;font-weight:bold;background-color:#F0573B;padding: 2px;font-size:20px'>b.</span> Pour calculer l'écart-type $\\sigma_X$ de <b>X</b>, exécuter le code suivant"
   ]
  },
  {
   "cell_type": "code",
   "execution_count": null,
   "metadata": {},
   "outputs": [],
   "source": [
    "sx = T['X'].std(ddof = 0)\n",
    "sx"
   ]
  },
  {
   "cell_type": "markdown",
   "metadata": {},
   "source": [
    "Calculer de même l'écart-type $\\sigma_Y$ de <b>Y</b>"
   ]
  },
  {
   "cell_type": "code",
   "execution_count": null,
   "metadata": {},
   "outputs": [],
   "source": []
  },
  {
   "cell_type": "markdown",
   "metadata": {},
   "source": [
    "<span style='color:white;font-weight:bold;background-color:#F0573B;padding: 2px;font-size:20px'>c.</span> La variable normalisée de $X$ notée $N_X$, contient les valeurs $$x_i = \\dfrac{X_i-\\overline{X}}{\\sigma_X}.$$\n",
    "Exécuter le code suivant pour créer la colonne <b>NX</b> contenant les valeurs de $N_X$ :"
   ]
  },
  {
   "cell_type": "code",
   "execution_count": null,
   "metadata": {},
   "outputs": [],
   "source": [
    "T['NX'] = (T['X'] - mx) / sx\n",
    "T.head()"
   ]
  },
  {
   "cell_type": "markdown",
   "metadata": {},
   "source": [
    "Ajouter à la table <b>T</b> les valeurs de la variable normalisée de $Y$ notée $N_Y$"
   ]
  },
  {
   "cell_type": "code",
   "execution_count": null,
   "metadata": {},
   "outputs": [],
   "source": []
  },
  {
   "cell_type": "markdown",
   "metadata": {},
   "source": [
    "Visualisons les variables normalisées <b>NX</b> et <b>NY</b> : "
   ]
  },
  {
   "cell_type": "code",
   "execution_count": null,
   "metadata": {},
   "outputs": [],
   "source": [
    "T.boxplot(column = ['NX', 'NY'],whis = [0, 100])"
   ]
  },
  {
   "cell_type": "markdown",
   "metadata": {},
   "source": [
    "<span style='background-color:rgb(117, 129, 172);padding:10px'> <b>On note : </b> $N_X=\\left(x_i \\right)_{i=0..14}$ et $N_Y=\\left(y_i\\right)_{i=0..14}$</span>"
   ]
  },
  {
   "cell_type": "markdown",
   "metadata": {},
   "source": [
    "<span style='color:white;font-weight:bold;background-color:#F0573B;padding: 2px;font-size:20px'>d.</span> Créer le nuage de points $\\left(x_i\\,,\\,y_i\\right)$"
   ]
  },
  {
   "cell_type": "code",
   "execution_count": null,
   "metadata": {},
   "outputs": [],
   "source": [
    "T.plot.scatter(x = 'NX', y = 'NY')\n",
    "pl.axhline(y = 0, color = 'gray')\n",
    "pl.axvline(x = 0, color = 'gray')"
   ]
  },
  {
   "cell_type": "markdown",
   "metadata": {},
   "source": [
    "<span style='color:white;font-weight:bold;background-color:black;width:12px;padding: 2px;font-size:20px'>3.</span> Ajustement linéaire du nuage de points $\\left(x_i\\,,\\,y_i\\right)$ par la méthode des moindres carrés"
   ]
  },
  {
   "cell_type": "markdown",
   "metadata": {},
   "source": [
    "<b><u>Objectif</u></b>\n",
    "<blockquote style=\"border-left: 10px solid black;background-color:#D0573B\">\n",
    "On cherche $a$ de sorte que $$y_i\\approx ax_i$$ pour tout $i$ allant de $0$ jusque $14$.</div>\n",
    "</blockquote>"
   ]
  },
  {
   "cell_type": "markdown",
   "metadata": {},
   "source": [
    "<div style='background-color:rgb(117, 129, 172);padding:10px'> <b>On note : </b> $r_i$ le résidu ou l'écart entre $y_i$ et $ax_i$ : $$r_i=y_i - ax_i$$ </div>"
   ]
  },
  {
   "cell_type": "markdown",
   "metadata": {},
   "source": [
    "<span style='color:white;font-weight:bold;background-color:#F0573B;padding: 2px;font-size:20px'>a.</span> Compléter la fonction nommée <b>carrés_résidus</b> de paramètre <code>a</code> <i>(un nombre réel)</i> qui permet de calculer $$R(a)=\\sum_{i=0}^{14}\\left(y_i-ax_i\\right)^2$$"
   ]
  },
  {
   "cell_type": "code",
   "execution_count": null,
   "metadata": {},
   "outputs": [],
   "source": [
    "def carrés_résidus(a):\n",
    "    r2 = (T['......'] - ...........)**2\n",
    "    return r2.sum()"
   ]
  },
  {
   "cell_type": "markdown",
   "metadata": {},
   "source": [
    "<span style='color:white;font-weight:bold;background-color:#F0573B;padding: 2px;font-size:20px'>b.</span> Compléter la fonction suivante de paramètre <code>a</code> Lequel des deux nombres $R(1)$ ou $R(0.5)$ est le plus faible ?"
   ]
  },
  {
   "cell_type": "code",
   "execution_count": null,
   "metadata": {},
   "outputs": [],
   "source": [
    "carrés_résidus(1), carrés_résidus(0.5)"
   ]
  },
  {
   "cell_type": "markdown",
   "metadata": {},
   "source": [
    "<span style='color:white;font-weight:bold;background-color:#F0573B;padding: 2px;font-size:20px'>a.</span> Compléter la fonction suivante sans paramètre qui génère $1000$ valeurs aléatoires de $a\\in[0\\,,\\,2]$ et renvoie celle qui minimise $R(a)$."
   ]
  },
  {
   "cell_type": "code",
   "execution_count": null,
   "metadata": {},
   "outputs": [],
   "source": [
    "from random import random\n",
    "\n",
    "def coeff():\n",
    "    m = 100\n",
    "    for k in range(1000):\n",
    "        a = 2*random()\n",
    "        R = carrés_résidus(a)\n",
    "        if R < m:\n",
    "            a_min = .....\n",
    "            m = .....\n",
    "    return a_min"
   ]
  },
  {
   "cell_type": "markdown",
   "metadata": {},
   "source": [
    "<span style='color:white;font-weight:bold;background-color:#F0573B;padding: 2px;font-size:20px'>b.</span> Exécuter cette fonction puis interpréter le résultat obtenu"
   ]
  },
  {
   "cell_type": "code",
   "execution_count": null,
   "metadata": {},
   "outputs": [],
   "source": [
    "coeff()"
   ]
  },
  {
   "cell_type": "markdown",
   "metadata": {},
   "source": [
    "<span style='color:white;font-weight:bold;background-color:#F0573B;padding: 2px;font-size:20px'>c.</span> Calculer la covariance de $X_n$ et $Y_n$, conclure."
   ]
  },
  {
   "cell_type": "code",
   "execution_count": null,
   "metadata": {},
   "outputs": [],
   "source": [
    "cov = (T['NX'] * T['NY']).mean()\n",
    "cov"
   ]
  },
  {
   "cell_type": "markdown",
   "metadata": {},
   "source": [
    "<div style='background-color:rgb(117, 129, 172);padding:10px'> On appelle $\\rho$ le <b>coefficient de corrélation</b> de $X$ et $Y$. \n",
    "<br>Par définition : $$\\rho = \\text{cov}\\left(X_n\\,,\\,Y_n\\right)$$</div>"
   ]
  },
  {
   "cell_type": "markdown",
   "metadata": {},
   "source": [
    "<span style='color:white;font-weight:bold;background-color:#F0573B;padding: 2px;font-size:20px'>d.</span> Représenter la droite d'équation $y=\\rho x$ par-dessus le nuage de points $\\left(x_i\\,,\\,y_i\\right)$"
   ]
  },
  {
   "cell_type": "code",
   "execution_count": null,
   "metadata": {},
   "outputs": [],
   "source": [
    "r = cov\n",
    "T.plot.scatter(x='NX',y='NY')\n",
    "pl.axvline(x = 0, color='gray')\n",
    "pl.axhline(y = 0, color='gray')\n",
    "pl.plot([-2 , 2],[-2*r , 2*r],color='red')"
   ]
  },
  {
   "cell_type": "markdown",
   "metadata": {},
   "source": [
    "<div style='background-color:rgb(117, 129, 172);padding:10px'> La droite $\\mathscr{d}$ d'équation $$y=\\rho x$$ <b>ajuste au mieux</b> le nuage de points $\\left(x_i\\,,\\,y_i\\right)$.  "
   ]
  },
  {
   "cell_type": "markdown",
   "metadata": {},
   "source": [
    "<span style='color:white;font-weight:bold;background-color:black;width:12px;padding: 2px;font-size:20px'>4.</span> Ajustement linéaire du nuage de points $\\left(X_i\\,,\\,Y_i\\right)$ par la méthode des moindres carrés"
   ]
  },
  {
   "cell_type": "markdown",
   "metadata": {},
   "source": [
    "<b><u>Objectif</u></b>\n",
    "<blockquote style=\"border-left: 10px solid black;background-color:#D0573B\">\n",
    "On cherche $a$ et $b$ de sorte que $$Y_i\\approx aX_i+b$$ pour tout $i$ allant de $0$ jusque $14$.\n",
    "    <br>\n",
    "<ul>\n",
    "    <li>On utilisera la <b>méthode des moindres carrés</b> qui consiste à trouver $a$ et $b$ qui minimisent $$r(a,b)=\\sum_{i=0}^{14}\\left(y_i-aX_i-b\\right)^2$$</li>\n",
    "    <li>Soit la droite $\\mathscr{D}$ qui ajuste au mieux le nuage de points $\\left(X_i\\,,\\,Y_i\\right)$ (c'est à dire qui passe au plus près possible de ces points).\n",
    "        <br><b>On admet que</b> $\\mathscr{D}$ passe par le point moyen $G(\\overline{X}\\,,\\,\\overline{Y})$.\n",
    "    </li>\n",
    "</ul>\n",
    "</blockquote>"
   ]
  },
  {
   "cell_type": "markdown",
   "metadata": {},
   "source": [
    "<span style='color:white;font-weight:bold;background-color:#F0573B;padding: 2px;font-size:20px'>a.</span> Calculer $\\rho\\times\\dfrac{\\sigma_Y}{\\sigma_X}$"
   ]
  },
  {
   "cell_type": "code",
   "execution_count": null,
   "metadata": {},
   "outputs": [],
   "source": []
  },
  {
   "cell_type": "markdown",
   "metadata": {},
   "source": [
    "<span style='color:white;font-weight:bold;background-color:#F0573B;padding: 2px;font-size:20px'>b.</span> Excécuter le code pour conjecturer la valeur de $a$ qui rend minimale $r(a,b)$. \n",
    "<br> Donner une valeur approchée de $a$ arrondie au centième."
   ]
  },
  {
   "cell_type": "code",
   "execution_count": null,
   "metadata": {},
   "outputs": [],
   "source": [
    "from ipywidgets import interact"
   ]
  },
  {
   "cell_type": "code",
   "execution_count": null,
   "metadata": {},
   "outputs": [],
   "source": [
    "@interact(a= (0,8,0.1))\n",
    "def plot(a = 0):\n",
    "    T.plot.scatter(x='X',y='Y')\n",
    "    b = my - a * mx\n",
    "    Abs = [14 , 21]\n",
    "    Ord = [a * x + b for x in Abs]\n",
    "    pl.plot(Abs, Ord, color = 'red')\n",
    "    Carrés = (T['Y'] - a*T['X'] - b)**2\n",
    "    print(Carrés.sum())"
   ]
  },
  {
   "cell_type": "markdown",
   "metadata": {},
   "source": [
    "<span style='color:white;font-weight:bold;background-color:#F0573B;padding: 2px;font-size:20px'>c.</span> Conjecturer une expression de $a$ en fonction de $\\rho$ et des paramètres de $X$ et de $Y$. "
   ]
  },
  {
   "cell_type": "markdown",
   "metadata": {},
   "source": [
    "<span style='color:white;font-weight:bold;background-color:#F0573B;padding: 2px;font-size:20px'>d.</span> En déduire une équation de $\\mathscr{D}$ après avoir arrondi ses coefficients au centième près."
   ]
  },
  {
   "cell_type": "code",
   "execution_count": null,
   "metadata": {},
   "outputs": [],
   "source": [
    "a = \n",
    "b = \n",
    "round(a,2), round(b,2)"
   ]
  },
  {
   "cell_type": "markdown",
   "metadata": {},
   "source": [
    "<span style='color:white;font-weight:bold;background-color:black;width:12px;padding: 2px;font-size:20px'>5.</span> Prédiction"
   ]
  },
  {
   "cell_type": "markdown",
   "metadata": {},
   "source": [
    "Selon le modèle établi, quelle est la température extérieure lorsque le criquet crée 19 gazoullis en l'espace d'une minute ?"
   ]
  },
  {
   "cell_type": "code",
   "execution_count": null,
   "metadata": {},
   "outputs": [],
   "source": []
  },
  {
   "cell_type": "markdown",
   "metadata": {},
   "source": [
    "<h1 style=\"color:white;background-color:black;text-align:center\"> Module seaborn</h1>"
   ]
  },
  {
   "cell_type": "markdown",
   "metadata": {},
   "source": [
    "La fonction <b>regplot</b> du module <b>seaborn</b> permet de représenter la droite qui réalise le meilleur ajustement affine de $\\left(X_i\\,,\\,Y_i\\right)$."
   ]
  },
  {
   "cell_type": "code",
   "execution_count": null,
   "metadata": {},
   "outputs": [],
   "source": [
    "from seaborn import regplot"
   ]
  },
  {
   "cell_type": "code",
   "execution_count": null,
   "metadata": {},
   "outputs": [],
   "source": [
    "regplot(x = 'X', y = 'Y', ci = None, data = T , color = 'black',fit_reg = True,\n",
    "        line_kws = {'color' : 'green'}, scatter_kws = {'s' : 20})\n",
    "pl.plot(mx,my, 'o', color = 'blue')\n",
    "pl.text(mx,my+0.6, r'$G$', color = 'blue',fontsize=15)"
   ]
  },
  {
   "cell_type": "markdown",
   "metadata": {},
   "source": [
    "<h1 style=\"color:white;background-color:black;text-align:center\"> Module scipy.stats</h1>"
   ]
  },
  {
   "cell_type": "markdown",
   "metadata": {},
   "source": [
    "La fonction <b>linregress</b> du module <b>scipy.stats</b> renvoie dans l'ordre $a$ coeffcient directeur de $\\mathscr{D}$ et son ordonnée à l'origine $b$. "
   ]
  },
  {
   "cell_type": "code",
   "execution_count": null,
   "metadata": {},
   "outputs": [],
   "source": [
    "from scipy.stats import linregress"
   ]
  },
  {
   "cell_type": "code",
   "execution_count": null,
   "metadata": {},
   "outputs": [],
   "source": [
    "a, b = linregress(T['X'], T['Y'])[:2]\n",
    "a, b"
   ]
  },
  {
   "cell_type": "code",
   "execution_count": null,
   "metadata": {},
   "outputs": [],
   "source": [
    "linregress(T['X'],T['Y'])"
   ]
  },
  {
   "cell_type": "markdown",
   "metadata": {},
   "source": [
    "<span style='color:white;font-weight:bold;background-color:black;width:12px;padding: 2px;font-size:20px'>6.</span> Pertinence de la prédiction"
   ]
  },
  {
   "cell_type": "markdown",
   "metadata": {},
   "source": [
    "<span style='color:white;font-weight:bold;background-color:#F0573B;padding: 2px;font-size:20px'>a.</span> Calculer l'erreur commise si l'on approxime chaque valeur $Y_i$ par $\\overline{Y}$."
   ]
  },
  {
   "cell_type": "code",
   "execution_count": null,
   "metadata": {},
   "outputs": [],
   "source": [
    "erreur1 = ((T['Y'] - my)**2).sum()\n",
    "erreur1"
   ]
  },
  {
   "cell_type": "markdown",
   "metadata": {},
   "source": [
    "<span style='color:white;font-weight:bold;background-color:#F0573B;padding: 2px;font-size:20px'>b.</span> Calculer l'erreur commise si l'on approxime chaque valeur $Y_i$ par $aX_i+b$."
   ]
  },
  {
   "cell_type": "code",
   "execution_count": null,
   "metadata": {},
   "outputs": [],
   "source": [
    "erreur2 = ((T['Y'] - a*T['X'] - b)**2).sum()\n",
    "erreur2"
   ]
  },
  {
   "cell_type": "markdown",
   "metadata": {},
   "source": [
    "<span style='color:white;font-weight:bold;background-color:#F0573B;padding: 2px;font-size:20px'>c.</span> Relativement à l'approximation de $Y_i\\approx\\overline{Y}$, quelle part représente la diminution de l'erreur de l'approximation de $Y\\approx aX_i+b$ ? "
   ]
  },
  {
   "cell_type": "code",
   "execution_count": null,
   "metadata": {},
   "outputs": [],
   "source": [
    "(erreur1 - erreur2) / erreur1"
   ]
  },
  {
   "cell_type": "markdown",
   "metadata": {},
   "source": [
    "<span style='color:white;font-weight:bold;background-color:#F0573B;padding: 2px;font-size:20px'>d.</span> Calculer $\\rho^2$, puis conjecturer un gage de qualité de l'approxximation affine."
   ]
  },
  {
   "cell_type": "code",
   "execution_count": null,
   "metadata": {},
   "outputs": [],
   "source": [
    "r**2"
   ]
  },
  {
   "cell_type": "code",
   "execution_count": null,
   "metadata": {},
   "outputs": [],
   "source": []
  }
 ],
 "metadata": {
  "kernelspec": {
   "display_name": "Python 3",
   "language": "python",
   "name": "python3"
  },
  "language_info": {
   "codemirror_mode": {
    "name": "ipython",
    "version": 3
   },
   "file_extension": ".py",
   "mimetype": "text/x-python",
   "name": "python",
   "nbconvert_exporter": "python",
   "pygments_lexer": "ipython3",
   "version": "3.6.9"
  }
 },
 "nbformat": 4,
 "nbformat_minor": 2
}
